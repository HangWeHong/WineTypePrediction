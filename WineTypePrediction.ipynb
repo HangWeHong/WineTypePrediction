{
 "cells": [
  {
   "cell_type": "code",
   "execution_count": 168,
   "id": "6edb7870-71e8-484f-819a-1ee7eced4ec8",
   "metadata": {
    "tags": []
   },
   "outputs": [],
   "source": [
    "import pandas as pd\n",
    "import numpy as np\n",
    "import matplotlib.pyplot as plt\n",
    "from sklearn.model_selection import train_test_split\n",
    "from sklearn.preprocessing import LabelEncoder, StandardScaler\n",
    "from sklearn.metrics import accuracy_score, confusion_matrix\n",
    "import tensorflow as tf\n",
    "from tensorflow import keras\n",
    "from tensorflow.keras.models import Sequential\n",
    "from tensorflow.keras.layers import Dense\n",
    "from tensorflow.keras.utils import plot_model\n",
    "from tensorflow.keras.wrappers.scikit_learn import KerasClassifier\n",
    "from sklearn.model_selection import RandomizedSearchCV\n",
    "from sklearn.model_selection import GridSearchCV\n",
    "from tensorflow.keras.optimizers import Adam, RMSprop\n",
    "import scikeras\n",
    "from sklearn.metrics import classification_report"
   ]
  },
  {
   "cell_type": "markdown",
   "id": "ba671896-aa4d-44fc-aebd-b5108c97062c",
   "metadata": {},
   "source": [
    "# Data Preparation"
   ]
  },
  {
   "cell_type": "markdown",
   "id": "f5de9ef8-bc1f-4028-94bf-4ef60f153a1e",
   "metadata": {},
   "source": [
    "## Load Data"
   ]
  },
  {
   "cell_type": "code",
   "execution_count": 169,
   "id": "24686f51-8430-4874-99f4-13751def17cc",
   "metadata": {},
   "outputs": [],
   "source": [
    "# Load the datasets\n",
    "red_wine_data = pd.read_csv('winequality-red.csv', delimiter=';')\n",
    "white_wine_data = pd.read_csv('winequality-white.csv', delimiter=';')"
   ]
  },
  {
   "cell_type": "code",
   "execution_count": 170,
   "id": "3864b48f-a39f-4e78-91cd-8591defebd19",
   "metadata": {
    "tags": []
   },
   "outputs": [],
   "source": [
    "# Add a 'type' column to indicate the wine type\n",
    "red_wine_data['type'] = 'red'\n",
    "white_wine_data['type'] = 'white'"
   ]
  },
  {
   "cell_type": "code",
   "execution_count": 171,
   "id": "822d9323-ead6-4198-9a0a-50563e9b0d9c",
   "metadata": {
    "tags": []
   },
   "outputs": [],
   "source": [
    "# Merge the datasets\n",
    "wine_data = pd.concat([red_wine_data, white_wine_data], axis=0)\n",
    "# axis=0 means that the concatenation is done vertically, stacking the rows of red_wine_data below the rows of white_wine_data"
   ]
  },
  {
   "cell_type": "code",
   "execution_count": 172,
   "id": "80473720-28a2-4ce2-887b-b8f87d6350a6",
   "metadata": {
    "tags": []
   },
   "outputs": [],
   "source": [
    "# Encode the 'type' column\n",
    "label_encoder = LabelEncoder()\n",
    "wine_data['type'] = label_encoder.fit_transform(wine_data['type'])"
   ]
  },
  {
   "cell_type": "code",
   "execution_count": 173,
   "id": "1ae91310-4197-4dca-b14c-97aaba67ac1b",
   "metadata": {
    "tags": []
   },
   "outputs": [],
   "source": [
    "#Encoding the 'type' column is necessary because machine learning algorithms typically operate on numerical data, and the 'type' column contains categorical data (red wine / white wine) which is non-numeric.\n",
    "#To train a neural network model to classify the type of wine, we need to convert the categorical values into numerical representations. This process is called encoding. It allows the model to understand and make predictions based on the encoded values.\n",
    "#There are different encoding techniques available, but in this case, we can use one-hot encoding. One-hot encoding transforms the categorical values into binary vectors. It creates new binary columns for each unique category and assigns a value of 1 or 0 to indicate whether a particular sample belongs to that category or not.\n",
    "#For example, after one-hot encoding, the 'type' column will be transformed into two columns: 'red' and 'white'. If a sample belongs to the red wine category, the 'red' column will have a value of 1 and the 'white' column will have a value of 0. If a sample belongs to the white wine category, the 'red' column will have a value of 0 and the 'white' column will have a value of 1.\n",
    "#By encoding the 'type' column, we can represent the categorical information in a format that can be effectively used by the neural network model for classification."
   ]
  },
  {
   "cell_type": "markdown",
   "id": "85001f23-d29e-496a-b3e5-041943d76c76",
   "metadata": {},
   "source": [
    "## Preprocess the data"
   ]
  },
  {
   "cell_type": "code",
   "execution_count": 174,
   "id": "1205596c-62b8-4f77-adaa-1b0657ec0daa",
   "metadata": {
    "tags": []
   },
   "outputs": [],
   "source": [
    "# Data Cleaning\n",
    "wine_data.dropna(inplace=True)  # Drop rows with missing values"
   ]
  },
  {
   "cell_type": "code",
   "execution_count": 175,
   "id": "93c4a952-ca4b-4392-872f-ca35a9e2f86d",
   "metadata": {
    "tags": []
   },
   "outputs": [],
   "source": [
    "# Prepare the data for modeling\n",
    "X = wine_data.drop('type', axis=1)\n",
    "y = wine_data['type']"
   ]
  },
  {
   "cell_type": "code",
   "execution_count": 176,
   "id": "f0506f30-7fad-4b07-86fe-6ec4ead8170a",
   "metadata": {
    "tags": []
   },
   "outputs": [],
   "source": [
    "# Split the dataset into training, validation, and testing sets\n",
    "X_train, X_test, y_train, y_test = train_test_split(X, y, test_size=0.2, random_state=42)\n",
    "X_train, X_val, y_train, y_val = train_test_split(X_train, y_train, test_size=0.2, random_state=42)"
   ]
  },
  {
   "cell_type": "code",
   "execution_count": 177,
   "id": "a9a0fbe4-8321-4639-9cc3-a9dad6b2fe16",
   "metadata": {
    "tags": []
   },
   "outputs": [],
   "source": [
    "# Perform feature scaling\n",
    "scaler = StandardScaler()\n",
    "X_train_scaled = scaler.fit_transform(X_train)\n",
    "X_val_scaled = scaler.transform(X_val)\n",
    "X_test_scaled = scaler.transform(X_test)"
   ]
  },
  {
   "cell_type": "markdown",
   "id": "46565b0e-95ce-4ffb-b888-b1394dcaf4ff",
   "metadata": {},
   "source": [
    "# Model Development"
   ]
  },
  {
   "cell_type": "markdown",
   "id": "de378e13-2aca-40cc-b848-37380c195cc1",
   "metadata": {},
   "source": [
    "## Model 1"
   ]
  },
  {
   "cell_type": "code",
   "execution_count": 178,
   "id": "a7aa4554-2d97-490d-99b9-9665f4c6bcb8",
   "metadata": {
    "tags": []
   },
   "outputs": [
    {
     "name": "stdout",
     "output_type": "stream",
     "text": [
      "Epoch 1/10\n",
      "130/130 [==============================] - 1s 2ms/step - loss: 0.2755 - accuracy: 0.9365 - val_loss: 0.0724 - val_accuracy: 0.9904\n",
      "Epoch 2/10\n",
      "130/130 [==============================] - 0s 2ms/step - loss: 0.0522 - accuracy: 0.9918 - val_loss: 0.0305 - val_accuracy: 0.9933\n",
      "Epoch 3/10\n",
      "130/130 [==============================] - 0s 2ms/step - loss: 0.0348 - accuracy: 0.9937 - val_loss: 0.0218 - val_accuracy: 0.9952\n",
      "Epoch 4/10\n",
      "130/130 [==============================] - 0s 2ms/step - loss: 0.0291 - accuracy: 0.9945 - val_loss: 0.0190 - val_accuracy: 0.9952\n",
      "Epoch 5/10\n",
      "130/130 [==============================] - 0s 1ms/step - loss: 0.0260 - accuracy: 0.9949 - val_loss: 0.0171 - val_accuracy: 0.9942\n",
      "Epoch 6/10\n",
      "130/130 [==============================] - 0s 1ms/step - loss: 0.0235 - accuracy: 0.9957 - val_loss: 0.0162 - val_accuracy: 0.9942\n",
      "Epoch 7/10\n",
      "130/130 [==============================] - 0s 1ms/step - loss: 0.0216 - accuracy: 0.9957 - val_loss: 0.0151 - val_accuracy: 0.9942\n",
      "Epoch 8/10\n",
      "130/130 [==============================] - 0s 1ms/step - loss: 0.0202 - accuracy: 0.9962 - val_loss: 0.0141 - val_accuracy: 0.9952\n",
      "Epoch 9/10\n",
      "130/130 [==============================] - 0s 1ms/step - loss: 0.0189 - accuracy: 0.9969 - val_loss: 0.0134 - val_accuracy: 0.9962\n",
      "Epoch 10/10\n",
      "130/130 [==============================] - 0s 1ms/step - loss: 0.0181 - accuracy: 0.9971 - val_loss: 0.0127 - val_accuracy: 0.9952\n"
     ]
    },
    {
     "data": {
      "text/plain": [
       "<keras.callbacks.History at 0x288ed307b20>"
      ]
     },
     "execution_count": 178,
     "metadata": {},
     "output_type": "execute_result"
    }
   ],
   "source": [
    "model1 = Sequential()\n",
    "model1.add(Dense(32, activation='relu', input_shape=(12,)))\n",
    "model1.add(Dense(16, activation='relu'))\n",
    "model1.add(Dense(1, activation='sigmoid'))\n",
    "model1.compile(optimizer='adam', loss='binary_crossentropy', metrics=['accuracy'])\n",
    "model1.fit(X_train_scaled, y_train, epochs=10, batch_size=32, validation_data=(X_val_scaled, y_val))"
   ]
  },
  {
   "cell_type": "markdown",
   "id": "3f8d11fb-19f3-4ebe-999b-6460a62a1636",
   "metadata": {},
   "source": [
    "## Model 2"
   ]
  },
  {
   "cell_type": "code",
   "execution_count": 179,
   "id": "3377b042-18a0-4c36-b3be-63083038d163",
   "metadata": {
    "tags": []
   },
   "outputs": [
    {
     "name": "stdout",
     "output_type": "stream",
     "text": [
      "Epoch 1/10\n",
      "130/130 [==============================] - 1s 3ms/step - loss: 0.8582 - accuracy: 0.8566 - val_loss: 0.1825 - val_accuracy: 0.9375\n",
      "Epoch 2/10\n",
      "130/130 [==============================] - 0s 2ms/step - loss: 0.1731 - accuracy: 0.9396 - val_loss: 0.1662 - val_accuracy: 0.9385\n",
      "Epoch 3/10\n",
      "130/130 [==============================] - 0s 2ms/step - loss: 0.1620 - accuracy: 0.9454 - val_loss: 0.1776 - val_accuracy: 0.9375\n",
      "Epoch 4/10\n",
      "130/130 [==============================] - 0s 2ms/step - loss: 0.1566 - accuracy: 0.9449 - val_loss: 0.1468 - val_accuracy: 0.9452\n",
      "Epoch 5/10\n",
      "130/130 [==============================] - 0s 2ms/step - loss: 0.1488 - accuracy: 0.9464 - val_loss: 0.1370 - val_accuracy: 0.9500\n",
      "Epoch 6/10\n",
      "130/130 [==============================] - 0s 2ms/step - loss: 0.1340 - accuracy: 0.9497 - val_loss: 0.1298 - val_accuracy: 0.9577\n",
      "Epoch 7/10\n",
      "130/130 [==============================] - 0s 2ms/step - loss: 0.1292 - accuracy: 0.9538 - val_loss: 0.1128 - val_accuracy: 0.9577\n",
      "Epoch 8/10\n",
      "130/130 [==============================] - 0s 2ms/step - loss: 0.1278 - accuracy: 0.9572 - val_loss: 0.1356 - val_accuracy: 0.9644\n",
      "Epoch 9/10\n",
      "130/130 [==============================] - 0s 2ms/step - loss: 0.1113 - accuracy: 0.9615 - val_loss: 0.1075 - val_accuracy: 0.9529\n",
      "Epoch 10/10\n",
      "130/130 [==============================] - 0s 2ms/step - loss: 0.1025 - accuracy: 0.9637 - val_loss: 0.0919 - val_accuracy: 0.9615\n"
     ]
    },
    {
     "data": {
      "text/plain": [
       "<keras.callbacks.History at 0x288e6c2ac50>"
      ]
     },
     "execution_count": 179,
     "metadata": {},
     "output_type": "execute_result"
    }
   ],
   "source": [
    "model2 = Sequential()\n",
    "model2.add(Dense(64, activation='relu', input_shape=(12,)))\n",
    "model2.add(Dense(32, activation='relu'))\n",
    "model2.add(Dense(16, activation='relu'))\n",
    "model2.add(Dense(1, activation='sigmoid'))\n",
    "model2.compile(optimizer='adam', loss='binary_crossentropy', metrics=['accuracy'])\n",
    "model2.fit(X_train, y_train, epochs=10, batch_size=32, validation_data=(X_val, y_val))"
   ]
  },
  {
   "cell_type": "markdown",
   "id": "380e9e9a-70e5-4aa4-b156-3a19d8db9493",
   "metadata": {},
   "source": [
    "## ModeL 3"
   ]
  },
  {
   "cell_type": "code",
   "execution_count": 180,
   "id": "e1c7baca-9280-4cfb-af15-0c512d17c8a3",
   "metadata": {
    "tags": []
   },
   "outputs": [
    {
     "name": "stdout",
     "output_type": "stream",
     "text": [
      "Epoch 1/10\n",
      "130/130 [==============================] - 1s 3ms/step - loss: 0.2847 - accuracy: 0.9050 - val_loss: 0.1774 - val_accuracy: 0.9365\n",
      "Epoch 2/10\n",
      "130/130 [==============================] - 0s 2ms/step - loss: 0.1775 - accuracy: 0.9423 - val_loss: 0.1609 - val_accuracy: 0.9404\n",
      "Epoch 3/10\n",
      "130/130 [==============================] - 0s 2ms/step - loss: 0.1600 - accuracy: 0.9435 - val_loss: 0.1516 - val_accuracy: 0.9452\n",
      "Epoch 4/10\n",
      "130/130 [==============================] - 0s 2ms/step - loss: 0.1511 - accuracy: 0.9485 - val_loss: 0.1654 - val_accuracy: 0.9423\n",
      "Epoch 5/10\n",
      "130/130 [==============================] - 0s 2ms/step - loss: 0.1353 - accuracy: 0.9509 - val_loss: 0.1120 - val_accuracy: 0.9481\n",
      "Epoch 6/10\n",
      "130/130 [==============================] - 0s 2ms/step - loss: 0.1203 - accuracy: 0.9591 - val_loss: 0.1860 - val_accuracy: 0.9356\n",
      "Epoch 7/10\n",
      "130/130 [==============================] - 0s 2ms/step - loss: 0.1045 - accuracy: 0.9622 - val_loss: 0.0876 - val_accuracy: 0.9683\n",
      "Epoch 8/10\n",
      "130/130 [==============================] - 0s 2ms/step - loss: 0.1154 - accuracy: 0.9651 - val_loss: 0.0843 - val_accuracy: 0.9683\n",
      "Epoch 9/10\n",
      "130/130 [==============================] - 0s 2ms/step - loss: 0.0909 - accuracy: 0.9697 - val_loss: 0.1936 - val_accuracy: 0.9365\n",
      "Epoch 10/10\n",
      "130/130 [==============================] - 0s 2ms/step - loss: 0.0920 - accuracy: 0.9675 - val_loss: 0.0614 - val_accuracy: 0.9750\n"
     ]
    },
    {
     "data": {
      "text/plain": [
       "<keras.callbacks.History at 0x288c6022bc0>"
      ]
     },
     "execution_count": 180,
     "metadata": {},
     "output_type": "execute_result"
    }
   ],
   "source": [
    "model3 = Sequential()\n",
    "model3.add(Dense(128, activation='relu', input_shape=(12,)))\n",
    "model3.add(Dense(64, activation='relu'))\n",
    "model3.add(Dense(32, activation='relu'))\n",
    "model3.add(Dense(16, activation='relu'))\n",
    "model3.add(Dense(1, activation='sigmoid'))\n",
    "model3.compile(optimizer='adam', loss='binary_crossentropy', metrics=['accuracy'])\n",
    "model3.fit(X_train, y_train, epochs=10, batch_size=32, validation_data=(X_val, y_val))"
   ]
  },
  {
   "cell_type": "markdown",
   "id": "f5af053d-df15-46a5-96e4-a8287c38c45a",
   "metadata": {},
   "source": [
    "## Model 4"
   ]
  },
  {
   "cell_type": "code",
   "execution_count": 181,
   "id": "565541f5-f6cc-42e2-81f0-e22b7bc5b879",
   "metadata": {
    "tags": []
   },
   "outputs": [
    {
     "name": "stdout",
     "output_type": "stream",
     "text": [
      "Epoch 1/10\n",
      "130/130 [==============================] - 1s 2ms/step - loss: 0.4170 - accuracy: 0.7715 - val_loss: 0.3184 - val_accuracy: 0.8990\n",
      "Epoch 2/10\n",
      "130/130 [==============================] - 0s 1ms/step - loss: 0.2896 - accuracy: 0.9230 - val_loss: 0.2998 - val_accuracy: 0.9163\n",
      "Epoch 3/10\n",
      "130/130 [==============================] - 0s 1ms/step - loss: 0.2732 - accuracy: 0.9322 - val_loss: 0.2802 - val_accuracy: 0.9288\n",
      "Epoch 4/10\n",
      "130/130 [==============================] - 0s 1ms/step - loss: 0.2624 - accuracy: 0.9372 - val_loss: 0.2769 - val_accuracy: 0.9240\n",
      "Epoch 5/10\n",
      "130/130 [==============================] - 0s 1ms/step - loss: 0.2498 - accuracy: 0.9396 - val_loss: 0.2609 - val_accuracy: 0.9288\n",
      "Epoch 6/10\n",
      "130/130 [==============================] - 0s 1ms/step - loss: 0.2416 - accuracy: 0.9396 - val_loss: 0.2451 - val_accuracy: 0.9413\n",
      "Epoch 7/10\n",
      "130/130 [==============================] - 0s 1ms/step - loss: 0.2311 - accuracy: 0.9406 - val_loss: 0.2341 - val_accuracy: 0.9452\n",
      "Epoch 8/10\n",
      "130/130 [==============================] - 0s 1ms/step - loss: 0.2194 - accuracy: 0.9439 - val_loss: 0.2259 - val_accuracy: 0.9356\n",
      "Epoch 9/10\n",
      "130/130 [==============================] - 0s 1ms/step - loss: 0.2099 - accuracy: 0.9461 - val_loss: 0.2108 - val_accuracy: 0.9471\n",
      "Epoch 10/10\n",
      "130/130 [==============================] - 0s 1ms/step - loss: 0.2022 - accuracy: 0.9492 - val_loss: 0.2088 - val_accuracy: 0.9394\n"
     ]
    },
    {
     "data": {
      "text/plain": [
       "<keras.callbacks.History at 0x288db983550>"
      ]
     },
     "execution_count": 181,
     "metadata": {},
     "output_type": "execute_result"
    }
   ],
   "source": [
    "model4 = Sequential()\n",
    "model4.add(Dense(16, activation='relu', input_shape=(12,)))\n",
    "model4.add(Dense(8, activation='relu'))\n",
    "model4.add(Dense(4, activation='relu'))\n",
    "model4.add(Dense(1, activation='sigmoid'))\n",
    "model4.compile(optimizer='adam', loss='binary_crossentropy', metrics=['accuracy'])\n",
    "model4.fit(X_train, y_train, epochs=10, batch_size=32, validation_data=(X_val, y_val))"
   ]
  },
  {
   "cell_type": "markdown",
   "id": "cd8a98e4-5338-4182-a290-23f4d671f3df",
   "metadata": {},
   "source": [
    "## Model 5"
   ]
  },
  {
   "cell_type": "code",
   "execution_count": 182,
   "id": "c0a4f757-fdfa-4544-a6a1-a3ec6149bacd",
   "metadata": {
    "tags": []
   },
   "outputs": [
    {
     "name": "stdout",
     "output_type": "stream",
     "text": [
      "Epoch 1/10\n",
      "130/130 [==============================] - 1s 3ms/step - loss: 0.8202 - accuracy: 0.8237 - val_loss: 0.5392 - val_accuracy: 0.9356\n",
      "Epoch 2/10\n",
      "130/130 [==============================] - 0s 2ms/step - loss: 0.5331 - accuracy: 0.9324 - val_loss: 0.5094 - val_accuracy: 0.9260\n",
      "Epoch 3/10\n",
      "130/130 [==============================] - 0s 2ms/step - loss: 0.4946 - accuracy: 0.9389 - val_loss: 0.4673 - val_accuracy: 0.9394\n",
      "Epoch 4/10\n",
      "130/130 [==============================] - 0s 2ms/step - loss: 0.4571 - accuracy: 0.9411 - val_loss: 0.4332 - val_accuracy: 0.9413\n",
      "Epoch 5/10\n",
      "130/130 [==============================] - 0s 2ms/step - loss: 0.4272 - accuracy: 0.9449 - val_loss: 0.4020 - val_accuracy: 0.9462\n",
      "Epoch 6/10\n",
      "130/130 [==============================] - 0s 2ms/step - loss: 0.3973 - accuracy: 0.9454 - val_loss: 0.3767 - val_accuracy: 0.9462\n",
      "Epoch 7/10\n",
      "130/130 [==============================] - 0s 2ms/step - loss: 0.3694 - accuracy: 0.9480 - val_loss: 0.3595 - val_accuracy: 0.9413\n",
      "Epoch 8/10\n",
      "130/130 [==============================] - 0s 2ms/step - loss: 0.3556 - accuracy: 0.9432 - val_loss: 0.3389 - val_accuracy: 0.9452\n",
      "Epoch 9/10\n",
      "130/130 [==============================] - 0s 1ms/step - loss: 0.3279 - accuracy: 0.9500 - val_loss: 0.3111 - val_accuracy: 0.9529\n",
      "Epoch 10/10\n",
      "130/130 [==============================] - 0s 2ms/step - loss: 0.3134 - accuracy: 0.9478 - val_loss: 0.2978 - val_accuracy: 0.9500\n"
     ]
    },
    {
     "data": {
      "text/plain": [
       "<keras.callbacks.History at 0x288d95b2260>"
      ]
     },
     "execution_count": 182,
     "metadata": {},
     "output_type": "execute_result"
    }
   ],
   "source": [
    "model5 = Sequential()\n",
    "model5.add(Dense(64, activation='relu', input_shape=(12,)))\n",
    "model5.add(Dense(32, activation='relu'))\n",
    "model5.add(Dense(16, activation='relu'))\n",
    "model5.add(Dense(8, activation='relu'))\n",
    "model5.add(Dense(4, activation='relu'))\n",
    "model5.add(Dense(1, activation='sigmoid'))\n",
    "model5.compile(optimizer='adam', loss='binary_crossentropy', metrics=['accuracy'])\n",
    "model5.fit(X_train, y_train, epochs=10, batch_size=32, validation_data=(X_val, y_val))"
   ]
  },
  {
   "cell_type": "markdown",
   "id": "2c1fb7bf-b906-48c9-b638-e27bf5d99a7c",
   "metadata": {},
   "source": [
    "**Each model has a different architecture with varying numbers of layers and neurons.**"
   ]
  },
  {
   "cell_type": "markdown",
   "id": "46167a99-bfc9-43b4-b7fc-0d766967afd0",
   "metadata": {
    "tags": []
   },
   "source": [
    "## Showing the network architecture of the 5 models in figures"
   ]
  },
  {
   "cell_type": "code",
   "execution_count": 183,
   "id": "5ad64fe9-efcc-4ba9-ba65-9d3e01d56d6a",
   "metadata": {
    "tags": []
   },
   "outputs": [
    {
     "name": "stdout",
     "output_type": "stream",
     "text": [
      "Model: \"sequential_456\"\n",
      "_________________________________________________________________\n",
      " Layer (type)                Output Shape              Param #   \n",
      "=================================================================\n",
      " dense_1396 (Dense)          (None, 32)                416       \n",
      "                                                                 \n",
      " dense_1397 (Dense)          (None, 16)                528       \n",
      "                                                                 \n",
      " dense_1398 (Dense)          (None, 1)                 17        \n",
      "                                                                 \n",
      "=================================================================\n",
      "Total params: 961\n",
      "Trainable params: 961\n",
      "Non-trainable params: 0\n",
      "_________________________________________________________________\n",
      "Model: \"sequential_457\"\n",
      "_________________________________________________________________\n",
      " Layer (type)                Output Shape              Param #   \n",
      "=================================================================\n",
      " dense_1399 (Dense)          (None, 64)                832       \n",
      "                                                                 \n",
      " dense_1400 (Dense)          (None, 32)                2080      \n",
      "                                                                 \n",
      " dense_1401 (Dense)          (None, 16)                528       \n",
      "                                                                 \n",
      " dense_1402 (Dense)          (None, 1)                 17        \n",
      "                                                                 \n",
      "=================================================================\n",
      "Total params: 3,457\n",
      "Trainable params: 3,457\n",
      "Non-trainable params: 0\n",
      "_________________________________________________________________\n",
      "Model: \"sequential_458\"\n",
      "_________________________________________________________________\n",
      " Layer (type)                Output Shape              Param #   \n",
      "=================================================================\n",
      " dense_1403 (Dense)          (None, 128)               1664      \n",
      "                                                                 \n",
      " dense_1404 (Dense)          (None, 64)                8256      \n",
      "                                                                 \n",
      " dense_1405 (Dense)          (None, 32)                2080      \n",
      "                                                                 \n",
      " dense_1406 (Dense)          (None, 16)                528       \n",
      "                                                                 \n",
      " dense_1407 (Dense)          (None, 1)                 17        \n",
      "                                                                 \n",
      "=================================================================\n",
      "Total params: 12,545\n",
      "Trainable params: 12,545\n",
      "Non-trainable params: 0\n",
      "_________________________________________________________________\n",
      "Model: \"sequential_459\"\n",
      "_________________________________________________________________\n",
      " Layer (type)                Output Shape              Param #   \n",
      "=================================================================\n",
      " dense_1408 (Dense)          (None, 16)                208       \n",
      "                                                                 \n",
      " dense_1409 (Dense)          (None, 8)                 136       \n",
      "                                                                 \n",
      " dense_1410 (Dense)          (None, 4)                 36        \n",
      "                                                                 \n",
      " dense_1411 (Dense)          (None, 1)                 5         \n",
      "                                                                 \n",
      "=================================================================\n",
      "Total params: 385\n",
      "Trainable params: 385\n",
      "Non-trainable params: 0\n",
      "_________________________________________________________________\n",
      "Model: \"sequential_460\"\n",
      "_________________________________________________________________\n",
      " Layer (type)                Output Shape              Param #   \n",
      "=================================================================\n",
      " dense_1412 (Dense)          (None, 64)                832       \n",
      "                                                                 \n",
      " dense_1413 (Dense)          (None, 32)                2080      \n",
      "                                                                 \n",
      " dense_1414 (Dense)          (None, 16)                528       \n",
      "                                                                 \n",
      " dense_1415 (Dense)          (None, 8)                 136       \n",
      "                                                                 \n",
      " dense_1416 (Dense)          (None, 4)                 36        \n",
      "                                                                 \n",
      " dense_1417 (Dense)          (None, 1)                 5         \n",
      "                                                                 \n",
      "=================================================================\n",
      "Total params: 3,617\n",
      "Trainable params: 3,617\n",
      "Non-trainable params: 0\n",
      "_________________________________________________________________\n"
     ]
    }
   ],
   "source": [
    "model1.summary()\n",
    "model2.summary()\n",
    "model3.summary()\n",
    "model4.summary()\n",
    "model5.summary()"
   ]
  },
  {
   "cell_type": "markdown",
   "id": "3101572d-5a82-45a3-9c91-aaf74d25d2b9",
   "metadata": {},
   "source": [
    "# Model Tuning"
   ]
  },
  {
   "cell_type": "markdown",
   "id": "4a028566-9807-45d6-9bab-9026fe6f0664",
   "metadata": {},
   "source": [
    "## Determine The Best Model Architecture "
   ]
  },
  {
   "cell_type": "code",
   "execution_count": 184,
   "id": "4a7faff9-bf50-4aa1-9a52-d5a7b9d06faa",
   "metadata": {
    "tags": []
   },
   "outputs": [],
   "source": [
    "# Define a list to store the accuracy of each model\n",
    "accuracy_list = []"
   ]
  },
  {
   "cell_type": "code",
   "execution_count": 185,
   "id": "5064d561-b1f0-4bcc-8e4a-07f315d1d40b",
   "metadata": {
    "tags": []
   },
   "outputs": [
    {
     "name": "stdout",
     "output_type": "stream",
     "text": [
      "41/41 [==============================] - 0s 1ms/step - loss: 0.0365 - accuracy: 0.9931\n",
      "41/41 [==============================] - 0s 922us/step - loss: 0.1240 - accuracy: 0.9569\n",
      "41/41 [==============================] - 0s 955us/step - loss: 0.0985 - accuracy: 0.9700\n",
      "41/41 [==============================] - 0s 916us/step - loss: 0.2392 - accuracy: 0.9269\n",
      "41/41 [==============================] - 0s 921us/step - loss: 0.3079 - accuracy: 0.9408\n"
     ]
    }
   ],
   "source": [
    "# Evaluate model1\n",
    "accuracy1 = model1.evaluate(X_test_scaled, y_test)[1]\n",
    "accuracy_list.append(accuracy1)\n",
    "\n",
    "# Evaluate model2\n",
    "accuracy2 = model2.evaluate(X_test, y_test)[1]\n",
    "accuracy_list.append(accuracy2)\n",
    "\n",
    "# Evaluate model3\n",
    "accuracy3 = model3.evaluate(X_test, y_test)[1]\n",
    "accuracy_list.append(accuracy3)\n",
    "\n",
    "# Evaluate model4\n",
    "accuracy4 = model4.evaluate(X_test, y_test)[1]\n",
    "accuracy_list.append(accuracy4)\n",
    "\n",
    "# Evaluate model5\n",
    "accuracy5 = model5.evaluate(X_test, y_test)[1]\n",
    "accuracy_list.append(accuracy5)"
   ]
  },
  {
   "cell_type": "code",
   "execution_count": 186,
   "id": "50e3b2bb-e677-4603-8eeb-d047f5256d36",
   "metadata": {
    "tags": []
   },
   "outputs": [],
   "source": [
    "# Create a dictionary to map model names to accuracy scores\n",
    "model_accuracy = {\n",
    "    'Model 1': accuracy1,\n",
    "    'Model 2': accuracy2,\n",
    "    'Model 3': accuracy3,\n",
    "    'Model 4': accuracy4,\n",
    "    'Model 5': accuracy5\n",
    "}"
   ]
  },
  {
   "cell_type": "code",
   "execution_count": 187,
   "id": "ce532507-28c0-4f55-a9fe-8f6578fa822d",
   "metadata": {
    "tags": []
   },
   "outputs": [
    {
     "name": "stdout",
     "output_type": "stream",
     "text": [
      "Model 1: Accuracy = 0.9931\n",
      "Model 2: Accuracy = 0.9569\n",
      "Model 3: Accuracy = 0.9700\n",
      "Model 4: Accuracy = 0.9269\n",
      "Model 5: Accuracy = 0.9408\n"
     ]
    }
   ],
   "source": [
    "# Print the accuracy of each model\n",
    "for model, accuracy in model_accuracy.items():\n",
    "    print(f'{model}: Accuracy = {accuracy:.4f}')\n"
   ]
  },
  {
   "cell_type": "code",
   "execution_count": 188,
   "id": "dc98a921-ae1e-4db0-b0ff-69c0adcb7bc0",
   "metadata": {
    "tags": []
   },
   "outputs": [],
   "source": [
    "# Find the model with architecture that has the highest accuracy\n",
    "best_model_architecture = max(model_accuracy, key=model_accuracy.get)"
   ]
  },
  {
   "cell_type": "code",
   "execution_count": 189,
   "id": "ef75168d-df2f-4baa-b4f7-17e35cf6981c",
   "metadata": {
    "tags": []
   },
   "outputs": [
    {
     "name": "stdout",
     "output_type": "stream",
     "text": [
      "Best Model Architecture: Model 1\n"
     ]
    }
   ],
   "source": [
    "# Print the best model\n",
    "print(f'Best Model Architecture: {best_model_architecture}')"
   ]
  },
  {
   "cell_type": "markdown",
   "id": "6c3f9246-09f0-411a-bfbe-21b291beca1c",
   "metadata": {},
   "source": [
    "## Hyperparameter Tuning"
   ]
  },
  {
   "cell_type": "markdown",
   "id": "57898ffe-f397-421a-9d54-50b47ba5a55d",
   "metadata": {},
   "source": [
    "**Tuning (1)optimizer (2) batch size (3) epochs**"
   ]
  },
  {
   "cell_type": "code",
   "execution_count": 190,
   "id": "3e4dce8e-9654-4972-a055-14aa343d295a",
   "metadata": {
    "tags": []
   },
   "outputs": [],
   "source": [
    "# Define the function to create the base model\n",
    "def create_model(optimizer='adam'):\n",
    "    model = Sequential()\n",
    "    model.add(Dense(32, activation='relu', input_shape=(12,)))\n",
    "    model.add(Dense(16, activation='relu'))\n",
    "    model.add(Dense(1, activation='sigmoid'))\n",
    "    model.compile(optimizer=optimizer, loss='binary_crossentropy', metrics=['accuracy'])\n",
    "    return model"
   ]
  },
  {
   "cell_type": "code",
   "execution_count": 191,
   "id": "aa65f752-49d4-41b5-a826-f1c5ed50b069",
   "metadata": {},
   "outputs": [
    {
     "name": "stderr",
     "output_type": "stream",
     "text": [
      "C:\\Users\\natsu\\AppData\\Local\\Temp\\ipykernel_36528\\3403891588.py:2: DeprecationWarning: KerasClassifier is deprecated, use Sci-Keras (https://github.com/adriangb/scikeras) instead. See https://www.adriangb.com/scikeras/stable/migration.html for help migrating.\n",
      "  model = KerasClassifier(build_fn=create_model, verbose=0)\n"
     ]
    }
   ],
   "source": [
    "# Create the KerasClassifier wrapper\n",
    "model = KerasClassifier(build_fn=create_model, verbose=0)"
   ]
  },
  {
   "cell_type": "code",
   "execution_count": 192,
   "id": "14b848b8-9d63-44c0-82f7-40257c72f4d2",
   "metadata": {
    "tags": []
   },
   "outputs": [],
   "source": [
    "# Define the hyperparameters to tune and their possible values\n",
    "param_dist = {\n",
    "    'batch_size': [16, 32, 64],\n",
    "    'epochs': [10, 20, 30],\n",
    "    'optimizer': ['adam', 'rmsprop']\n",
    "}"
   ]
  },
  {
   "cell_type": "code",
   "execution_count": 193,
   "id": "82770f11-78bc-4f67-b575-90787f75c5a6",
   "metadata": {
    "tags": []
   },
   "outputs": [
    {
     "name": "stdout",
     "output_type": "stream",
     "text": [
      "44/44 [==============================] - 0s 738us/step\n",
      "44/44 [==============================] - 0s 839us/step\n",
      "44/44 [==============================] - 0s 783us/step\n",
      "44/44 [==============================] - 0s 717us/step\n",
      "44/44 [==============================] - 0s 742us/step\n",
      "44/44 [==============================] - 0s 756us/step\n",
      "44/44 [==============================] - 0s 757us/step\n",
      "44/44 [==============================] - 0s 760us/step\n",
      "44/44 [==============================] - 0s 786us/step\n",
      "44/44 [==============================] - 0s 1ms/step\n",
      "44/44 [==============================] - 0s 739us/step\n",
      "44/44 [==============================] - 0s 751us/step\n",
      "44/44 [==============================] - 0s 778us/step\n",
      "44/44 [==============================] - 0s 719us/step\n",
      "44/44 [==============================] - 0s 765us/step\n",
      "44/44 [==============================] - 0s 701us/step\n",
      "44/44 [==============================] - 0s 692us/step\n",
      "44/44 [==============================] - 0s 724us/step\n",
      "44/44 [==============================] - 0s 775us/step\n",
      "44/44 [==============================] - 0s 759us/step\n",
      "44/44 [==============================] - 0s 1ms/step\n",
      "44/44 [==============================] - 0s 864us/step\n",
      "44/44 [==============================] - 0s 757us/step\n",
      "44/44 [==============================] - 0s 751us/step\n",
      "44/44 [==============================] - 0s 763us/step\n",
      "44/44 [==============================] - 0s 736us/step\n",
      "44/44 [==============================] - 0s 752us/step\n",
      "44/44 [==============================] - 0s 753us/step\n",
      "44/44 [==============================] - 0s 826us/step\n",
      "44/44 [==============================] - 0s 804us/step\n"
     ]
    }
   ],
   "source": [
    "# Perform randomized search cross-validation\n",
    "random_search = RandomizedSearchCV(estimator=model, param_distributions=param_dist, scoring='accuracy', cv=3)\n",
    "random_search_result = random_search.fit(X_train_scaled, y_train)"
   ]
  },
  {
   "cell_type": "code",
   "execution_count": 194,
   "id": "f4ab4d1a-0c2c-492f-9a6a-11aef80e1a7e",
   "metadata": {
    "tags": []
   },
   "outputs": [
    {
     "name": "stdout",
     "output_type": "stream",
     "text": [
      "Best Hyperparameters:  {'optimizer': 'rmsprop', 'epochs': 30, 'batch_size': 32}\n",
      "Best Accuracy:  0.9963921490997304\n"
     ]
    }
   ],
   "source": [
    "# Print the best hyperparameters and the corresponding accuracy\n",
    "print(\"Best Hyperparameters: \", random_search_result.best_params_)\n",
    "print(\"Best Accuracy: \", random_search_result.best_score_)"
   ]
  },
  {
   "cell_type": "code",
   "execution_count": 195,
   "id": "890ad366-3326-497b-893c-d8bb24a5dea8",
   "metadata": {
    "tags": []
   },
   "outputs": [],
   "source": [
    "# Get the results of the randomized search\n",
    "results = random_search_result.cv_results_\n",
    "params = results['params']\n",
    "mean_test_scores = results['mean_test_score']"
   ]
  },
  {
   "cell_type": "code",
   "execution_count": 196,
   "id": "ead8a6ea-6282-4162-a574-a315d483f678",
   "metadata": {
    "tags": []
   },
   "outputs": [
    {
     "data": {
      "text/plain": [
       "<keras.callbacks.History at 0x288d937a410>"
      ]
     },
     "execution_count": 196,
     "metadata": {},
     "output_type": "execute_result"
    }
   ],
   "source": [
    "# Refit the best model with the best hyperparameters using the entire training dataset\n",
    "best_model = random_search_result.best_estimator_\n",
    "best_model.model.fit(X_train_scaled, y_train, epochs=10, batch_size=32, verbose=0)"
   ]
  },
  {
   "cell_type": "code",
   "execution_count": 197,
   "id": "67a9e04e-ff6d-4f85-be18-7dd645013f2c",
   "metadata": {
    "tags": []
   },
   "outputs": [],
   "source": [
    "# Create a DataFrame to store the results\n",
    "results_df = pd.DataFrame(params)\n",
    "results_df['mean_test_score'] = mean_test_scores"
   ]
  },
  {
   "cell_type": "code",
   "execution_count": 198,
   "id": "629289f3-e88e-4b1d-950e-14ef96ef1367",
   "metadata": {
    "tags": []
   },
   "outputs": [
    {
     "data": {
      "text/html": [
       "<div>\n",
       "<style scoped>\n",
       "    .dataframe tbody tr th:only-of-type {\n",
       "        vertical-align: middle;\n",
       "    }\n",
       "\n",
       "    .dataframe tbody tr th {\n",
       "        vertical-align: top;\n",
       "    }\n",
       "\n",
       "    .dataframe thead th {\n",
       "        text-align: right;\n",
       "    }\n",
       "</style>\n",
       "<table border=\"1\" class=\"dataframe\">\n",
       "  <thead>\n",
       "    <tr style=\"text-align: right;\">\n",
       "      <th></th>\n",
       "      <th>optimizer</th>\n",
       "      <th>epochs</th>\n",
       "      <th>batch_size</th>\n",
       "      <th>mean_test_score</th>\n",
       "    </tr>\n",
       "  </thead>\n",
       "  <tbody>\n",
       "    <tr>\n",
       "      <th>3</th>\n",
       "      <td>rmsprop</td>\n",
       "      <td>30</td>\n",
       "      <td>32</td>\n",
       "      <td>0.996392</td>\n",
       "    </tr>\n",
       "    <tr>\n",
       "      <th>1</th>\n",
       "      <td>rmsprop</td>\n",
       "      <td>20</td>\n",
       "      <td>16</td>\n",
       "      <td>0.996152</td>\n",
       "    </tr>\n",
       "    <tr>\n",
       "      <th>0</th>\n",
       "      <td>adam</td>\n",
       "      <td>30</td>\n",
       "      <td>16</td>\n",
       "      <td>0.995911</td>\n",
       "    </tr>\n",
       "    <tr>\n",
       "      <th>8</th>\n",
       "      <td>adam</td>\n",
       "      <td>30</td>\n",
       "      <td>64</td>\n",
       "      <td>0.995911</td>\n",
       "    </tr>\n",
       "    <tr>\n",
       "      <th>4</th>\n",
       "      <td>rmsprop</td>\n",
       "      <td>30</td>\n",
       "      <td>16</td>\n",
       "      <td>0.995670</td>\n",
       "    </tr>\n",
       "    <tr>\n",
       "      <th>9</th>\n",
       "      <td>rmsprop</td>\n",
       "      <td>20</td>\n",
       "      <td>32</td>\n",
       "      <td>0.995670</td>\n",
       "    </tr>\n",
       "    <tr>\n",
       "      <th>5</th>\n",
       "      <td>adam</td>\n",
       "      <td>20</td>\n",
       "      <td>32</td>\n",
       "      <td>0.995430</td>\n",
       "    </tr>\n",
       "    <tr>\n",
       "      <th>6</th>\n",
       "      <td>adam</td>\n",
       "      <td>20</td>\n",
       "      <td>64</td>\n",
       "      <td>0.995189</td>\n",
       "    </tr>\n",
       "    <tr>\n",
       "      <th>7</th>\n",
       "      <td>rmsprop</td>\n",
       "      <td>10</td>\n",
       "      <td>32</td>\n",
       "      <td>0.995189</td>\n",
       "    </tr>\n",
       "    <tr>\n",
       "      <th>2</th>\n",
       "      <td>adam</td>\n",
       "      <td>10</td>\n",
       "      <td>16</td>\n",
       "      <td>0.994948</td>\n",
       "    </tr>\n",
       "  </tbody>\n",
       "</table>\n",
       "</div>"
      ],
      "text/plain": [
       "  optimizer  epochs  batch_size  mean_test_score\n",
       "3   rmsprop      30          32         0.996392\n",
       "1   rmsprop      20          16         0.996152\n",
       "0      adam      30          16         0.995911\n",
       "8      adam      30          64         0.995911\n",
       "4   rmsprop      30          16         0.995670\n",
       "9   rmsprop      20          32         0.995670\n",
       "5      adam      20          32         0.995430\n",
       "6      adam      20          64         0.995189\n",
       "7   rmsprop      10          32         0.995189\n",
       "2      adam      10          16         0.994948"
      ]
     },
     "execution_count": 198,
     "metadata": {},
     "output_type": "execute_result"
    }
   ],
   "source": [
    "# Sort the results by mean test score in descending order\n",
    "results_df = results_df.sort_values('mean_test_score', ascending=False)\n",
    "\n",
    "# Display the results table\n",
    "results_df"
   ]
  },
  {
   "cell_type": "markdown",
   "id": "dce43af7-ccb0-4d02-a459-412129d14180",
   "metadata": {},
   "source": [
    "# Model Evaluation"
   ]
  },
  {
   "cell_type": "markdown",
   "id": "152b74e8-24b6-4ce5-8bc6-d346916cdabc",
   "metadata": {},
   "source": [
    "## Evaluation On Testing Data"
   ]
  },
  {
   "cell_type": "markdown",
   "id": "cfe74bdb-c581-4fde-a182-74a97caedacb",
   "metadata": {},
   "source": [
    "**Testing Loss & Testing Accuracy**"
   ]
  },
  {
   "cell_type": "code",
   "execution_count": 199,
   "id": "22abcead-d0e5-43a1-a90e-5cfd1d298b06",
   "metadata": {
    "tags": []
   },
   "outputs": [
    {
     "name": "stdout",
     "output_type": "stream",
     "text": [
      "41/41 [==============================] - 0s 849us/step - loss: 0.0343 - accuracy: 0.9954\n",
      "Testing Loss: 0.034333519637584686\n",
      "Testing Accuracy: 0.9953846335411072\n"
     ]
    }
   ],
   "source": [
    "# Evaluate the best model on the testing data\n",
    "test_loss, test_accuracy = best_model.model.evaluate(X_test_scaled, y_test)\n",
    "print(\"Testing Loss:\", test_loss)\n",
    "print(\"Testing Accuracy:\", test_accuracy)\n",
    "#The testing loss represents the average loss or error of the model's predictions on the testing data\n",
    "#A lower testing loss indicates better performance, as it means the model's predictions are closer to the true values.\n",
    "#The testing accuracy is the proportion of correctly predicted samples in the testing data\n",
    "#A higher testing accuracy indicates better performance, as it means the model is making more correct predictions."
   ]
  },
  {
   "cell_type": "markdown",
   "id": "7ec1d778-2846-454d-8564-7c25045cebd4",
   "metadata": {
    "tags": []
   },
   "source": [
    "**Validation Loss & Validation Accuracy**"
   ]
  },
  {
   "cell_type": "code",
   "execution_count": 200,
   "id": "10063930-3101-4db1-8210-de42b7b0bff7",
   "metadata": {
    "tags": []
   },
   "outputs": [
    {
     "name": "stdout",
     "output_type": "stream",
     "text": [
      "33/33 [==============================] - 0s 873us/step - loss: 0.0078 - accuracy: 0.9971\n",
      "Validation Loss: 0.007752105128020048\n",
      "Validation Accuracy: 0.9971153736114502\n"
     ]
    }
   ],
   "source": [
    "val_loss, val_accuracy = best_model.model.evaluate(X_val_scaled, y_val)\n",
    "print(\"Validation Loss:\", val_loss)\n",
    "print(\"Validation Accuracy:\", val_accuracy)"
   ]
  },
  {
   "cell_type": "markdown",
   "id": "517dfd1e-f78e-4b57-bd56-ce53beb6f49b",
   "metadata": {
    "tags": []
   },
   "source": [
    "**Prediction**"
   ]
  },
  {
   "cell_type": "code",
   "execution_count": 201,
   "id": "8b5c9f12-cccb-40b0-aab5-7dfb125c7ba3",
   "metadata": {
    "tags": []
   },
   "outputs": [
    {
     "name": "stdout",
     "output_type": "stream",
     "text": [
      "33/33 [==============================] - 0s 738us/step\n",
      "Validation Classification Report:\n",
      "              precision    recall  f1-score   support\n",
      "\n",
      "           0       1.00      0.99      0.99       270\n",
      "           1       1.00      1.00      1.00       770\n",
      "\n",
      "    accuracy                           1.00      1040\n",
      "   macro avg       1.00      1.00      1.00      1040\n",
      "weighted avg       1.00      1.00      1.00      1040\n",
      "\n"
     ]
    }
   ],
   "source": [
    "# Predict on the validation data\n",
    "val_predictions = best_model.model.predict(X_val_scaled)\n",
    "val_predictions = (val_predictions > 0.5).astype(int)\n",
    "\n",
    "\n",
    "# Print classification report for validation data\n",
    "print(\"Validation Classification Report:\")\n",
    "print(classification_report(y_val, val_predictions))"
   ]
  },
  {
   "cell_type": "code",
   "execution_count": 202,
   "id": "b33cf62b-dcf6-45e0-b7e2-6345c6fcdf82",
   "metadata": {
    "tags": []
   },
   "outputs": [
    {
     "name": "stdout",
     "output_type": "stream",
     "text": [
      "41/41 [==============================] - 0s 763us/step\n",
      "Testing Classification Report:\n",
      "              precision    recall  f1-score   support\n",
      "\n",
      "           0       1.00      0.99      0.99       341\n",
      "           1       0.99      1.00      1.00       959\n",
      "\n",
      "    accuracy                           1.00      1300\n",
      "   macro avg       1.00      0.99      0.99      1300\n",
      "weighted avg       1.00      1.00      1.00      1300\n",
      "\n"
     ]
    }
   ],
   "source": [
    "# Predict on the testing data\n",
    "test_predictions = best_model.model.predict(X_test_scaled)\n",
    "test_predictions = (test_predictions > 0.5).astype(int)\n",
    "\n",
    "# Print classification report for testing data\n",
    "print(\"Testing Classification Report:\")\n",
    "print(classification_report(y_test, test_predictions))"
   ]
  },
  {
   "cell_type": "markdown",
   "id": "c5d8e521-4c06-4299-96aa-ec62aa9f840d",
   "metadata": {},
   "source": [
    "**Observation:**"
   ]
  },
  {
   "cell_type": "raw",
   "id": "322c5023-b5da-4352-ae2e-bce7bbd54991",
   "metadata": {
    "tags": []
   },
   "source": [
    "-Both the validation and testing results show high accuracy, precision, recall, and F1-score for both classes (0 and 1), indicating that the model performs very well on both datasets.\n",
    "\n",
    "-The accuracy for both validation and testing is close to 1.00, indicating that the model predicts the correct class with high accuracy.\n",
    "\n",
    "-The precision, recall, and F1-score for both classes are also close to 1.00, indicating that the model achieves a high level of precision and recall for both classes, resulting in a high F1-score."
   ]
  },
  {
   "cell_type": "markdown",
   "id": "6bb30987-fdfd-4fc3-ae03-acea68abead4",
   "metadata": {},
   "source": [
    "**Discussion:**"
   ]
  },
  {
   "cell_type": "raw",
   "id": "bd7484d5-a6de-42b2-8133-6baaaf3e4324",
   "metadata": {},
   "source": [
    "-The model's excellent performance on both validation and testing datasets suggests that it has -learned the underlying patterns and features of the wine data effectively.\n",
    "\n",
    "-The high precision score indicates that the model makes very few false positive predictions, while the high recall score indicates that it captures a large portion of true positive predictions.\n",
    "\n",
    "-The F1-score combines precision and recall, providing a balanced measure of the model's performance, and its high value indicates a good overall performance.\n",
    "\n",
    "-The consistent performance between validation and testing datasets suggests that the model generalizes well to unseen data, which is crucial for real-world applications.\n",
    "\n",
    "-Overall, the results demonstrate that the trained model is highly accurate and reliable in predicting the wine type based on the given features.\n",
    "\n",
    "-However, it's important to note that the high performance on the given dataset does not guarantee the same level of performance on completely new and unseen data. Further evaluation and testing on diverse datasets would be beneficial to validate the model's robustness and generalizability."
   ]
  }
 ],
 "metadata": {
  "kernelspec": {
   "display_name": "Python 3 (ipykernel)",
   "language": "python",
   "name": "python3"
  },
  "language_info": {
   "codemirror_mode": {
    "name": "ipython",
    "version": 3
   },
   "file_extension": ".py",
   "mimetype": "text/x-python",
   "name": "python",
   "nbconvert_exporter": "python",
   "pygments_lexer": "ipython3",
   "version": "3.10.3"
  }
 },
 "nbformat": 4,
 "nbformat_minor": 5
}

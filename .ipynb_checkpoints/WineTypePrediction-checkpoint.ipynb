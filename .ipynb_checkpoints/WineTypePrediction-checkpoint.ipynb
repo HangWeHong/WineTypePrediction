{
 "cells": [
  {
   "cell_type": "code",
   "execution_count": null,
   "id": "6edb7870-71e8-484f-819a-1ee7eced4ec8",
   "metadata": {
    "tags": []
   },
   "outputs": [],
   "source": [
    "import pandas as pd\n",
    "import numpy as np\n",
    "import matplotlib.pyplot as plt\n",
    "from sklearn.model_selection import train_test_split\n",
    "from sklearn.preprocessing import LabelEncoder, StandardScaler\n",
    "from sklearn.metrics import accuracy_score, confusion_matrix\n",
    "import tensorflow as tf\n",
    "from tensorflow import keras\n",
    "from tensorflow.keras.models import Sequential\n",
    "from tensorflow.keras.layers import Dense\n",
    "from tensorflow.keras.utils import plot_model\n",
    "from sklearn.model_selection import GridSearchCV\n",
    "from scikeras.wrappers import KerasClassifier\n",
    "from tensorflow.keras.optimizers import Adam, RMSprop\n",
    "import scikeras"
   ]
  },
  {
   "cell_type": "markdown",
   "id": "ba671896-aa4d-44fc-aebd-b5108c97062c",
   "metadata": {},
   "source": [
    "# Data Preparation"
   ]
  },
  {
   "cell_type": "markdown",
   "id": "f5de9ef8-bc1f-4028-94bf-4ef60f153a1e",
   "metadata": {},
   "source": [
    "## Load Data"
   ]
  },
  {
   "cell_type": "code",
   "execution_count": null,
   "id": "24686f51-8430-4874-99f4-13751def17cc",
   "metadata": {},
   "outputs": [],
   "source": [
    "# Load the datasets\n",
    "red_wine_data = pd.read_csv('winequality-red.csv', delimiter=';')\n",
    "white_wine_data = pd.read_csv('winequality-white.csv', delimiter=';')"
   ]
  },
  {
   "cell_type": "code",
   "execution_count": null,
   "id": "3864b48f-a39f-4e78-91cd-8591defebd19",
   "metadata": {
    "tags": []
   },
   "outputs": [],
   "source": [
    "# Add a 'type' column to indicate the wine type\n",
    "red_wine_data['type'] = 'red'\n",
    "white_wine_data['type'] = 'white'"
   ]
  },
  {
   "cell_type": "code",
   "execution_count": null,
   "id": "822d9323-ead6-4198-9a0a-50563e9b0d9c",
   "metadata": {
    "tags": []
   },
   "outputs": [],
   "source": [
    "# Merge the datasets\n",
    "wine_data = pd.concat([red_wine_data, white_wine_data], axis=0)\n",
    "# axis=0 means that the concatenation is done vertically, stacking the rows of red_wine_data below the rows of white_wine_data"
   ]
  },
  {
   "cell_type": "code",
   "execution_count": null,
   "id": "80473720-28a2-4ce2-887b-b8f87d6350a6",
   "metadata": {
    "tags": []
   },
   "outputs": [],
   "source": [
    "# Encode the 'type' column\n",
    "label_encoder = LabelEncoder()\n",
    "wine_data['type'] = label_encoder.fit_transform(wine_data['type'])"
   ]
  },
  {
   "cell_type": "code",
   "execution_count": null,
   "id": "1ae91310-4197-4dca-b14c-97aaba67ac1b",
   "metadata": {
    "tags": []
   },
   "outputs": [],
   "source": [
    "#Encoding the 'type' column is necessary because machine learning algorithms typically operate on numerical data, and the 'type' column contains categorical data (red wine / white wine) which is non-numeric.\n",
    "#To train a neural network model to classify the type of wine, we need to convert the categorical values into numerical representations. This process is called encoding. It allows the model to understand and make predictions based on the encoded values.\n",
    "#There are different encoding techniques available, but in this case, we can use one-hot encoding. One-hot encoding transforms the categorical values into binary vectors. It creates new binary columns for each unique category and assigns a value of 1 or 0 to indicate whether a particular sample belongs to that category or not.\n",
    "#For example, after one-hot encoding, the 'type' column will be transformed into two columns: 'red' and 'white'. If a sample belongs to the red wine category, the 'red' column will have a value of 1 and the 'white' column will have a value of 0. If a sample belongs to the white wine category, the 'red' column will have a value of 0 and the 'white' column will have a value of 1.\n",
    "#By encoding the 'type' column, we can represent the categorical information in a format that can be effectively used by the neural network model for classification."
   ]
  },
  {
   "cell_type": "markdown",
   "id": "85001f23-d29e-496a-b3e5-041943d76c76",
   "metadata": {},
   "source": [
    "## Preprocess the data"
   ]
  },
  {
   "cell_type": "code",
   "execution_count": null,
   "id": "1205596c-62b8-4f77-adaa-1b0657ec0daa",
   "metadata": {
    "tags": []
   },
   "outputs": [],
   "source": [
    "# Data Cleaning\n",
    "wine_data.dropna(inplace=True)  # Drop rows with missing values"
   ]
  },
  {
   "cell_type": "code",
   "execution_count": null,
   "id": "93c4a952-ca4b-4392-872f-ca35a9e2f86d",
   "metadata": {
    "tags": []
   },
   "outputs": [],
   "source": [
    "# Prepare the data for modeling\n",
    "X = wine_data.drop('type', axis=1)\n",
    "y = wine_data['type']"
   ]
  },
  {
   "cell_type": "code",
   "execution_count": null,
   "id": "f0506f30-7fad-4b07-86fe-6ec4ead8170a",
   "metadata": {
    "tags": []
   },
   "outputs": [],
   "source": [
    "# Split the dataset into training, validation, and testing sets\n",
    "X_train, X_test, y_train, y_test = train_test_split(X, y, test_size=0.2, random_state=42)\n",
    "X_train, X_val, y_train, y_val = train_test_split(X_train, y_train, test_size=0.2, random_state=42)"
   ]
  },
  {
   "cell_type": "code",
   "execution_count": null,
   "id": "a9a0fbe4-8321-4639-9cc3-a9dad6b2fe16",
   "metadata": {
    "tags": []
   },
   "outputs": [],
   "source": [
    "# Perform feature scaling\n",
    "scaler = StandardScaler()\n",
    "X_train_scaled = scaler.fit_transform(X_train)\n",
    "X_val_scaled = scaler.transform(X_val)\n",
    "X_test_scaled = scaler.transform(X_test)"
   ]
  },
  {
   "cell_type": "markdown",
   "id": "46565b0e-95ce-4ffb-b888-b1394dcaf4ff",
   "metadata": {},
   "source": [
    "# Model Development"
   ]
  },
  {
   "cell_type": "markdown",
   "id": "de378e13-2aca-40cc-b848-37380c195cc1",
   "metadata": {},
   "source": [
    "## Model 1"
   ]
  },
  {
   "cell_type": "code",
   "execution_count": null,
   "id": "a7aa4554-2d97-490d-99b9-9665f4c6bcb8",
   "metadata": {
    "tags": []
   },
   "outputs": [],
   "source": [
    "model1 = Sequential()\n",
    "model1.add(Dense(32, activation='relu', input_shape=(12,)))\n",
    "model1.add(Dense(16, activation='relu'))\n",
    "model1.add(Dense(1, activation='sigmoid'))\n",
    "model1.compile(optimizer='adam', loss='binary_crossentropy', metrics=['accuracy'])\n",
    "model1.fit(X_train_scaled, y_train, epochs=10, batch_size=32, validation_data=(X_val_scaled, y_val))"
   ]
  },
  {
   "cell_type": "markdown",
   "id": "3f8d11fb-19f3-4ebe-999b-6460a62a1636",
   "metadata": {},
   "source": [
    "## Model 2"
   ]
  },
  {
   "cell_type": "code",
   "execution_count": null,
   "id": "3377b042-18a0-4c36-b3be-63083038d163",
   "metadata": {
    "tags": []
   },
   "outputs": [],
   "source": [
    "model2 = Sequential()\n",
    "model2.add(Dense(64, activation='relu', input_shape=(12,)))\n",
    "model2.add(Dense(32, activation='relu'))\n",
    "model2.add(Dense(16, activation='relu'))\n",
    "model2.add(Dense(1, activation='sigmoid'))\n",
    "model2.compile(optimizer='adam', loss='binary_crossentropy', metrics=['accuracy'])\n",
    "model2.fit(X_train, y_train, epochs=10, batch_size=32, validation_data=(X_val, y_val))"
   ]
  },
  {
   "cell_type": "markdown",
   "id": "380e9e9a-70e5-4aa4-b156-3a19d8db9493",
   "metadata": {},
   "source": [
    "## ModeL 3"
   ]
  },
  {
   "cell_type": "code",
   "execution_count": null,
   "id": "e1c7baca-9280-4cfb-af15-0c512d17c8a3",
   "metadata": {
    "tags": []
   },
   "outputs": [],
   "source": [
    "model3 = Sequential()\n",
    "model3.add(Dense(128, activation='relu', input_shape=(12,)))\n",
    "model3.add(Dense(64, activation='relu'))\n",
    "model3.add(Dense(32, activation='relu'))\n",
    "model3.add(Dense(16, activation='relu'))\n",
    "model3.add(Dense(1, activation='sigmoid'))\n",
    "model3.compile(optimizer='adam', loss='binary_crossentropy', metrics=['accuracy'])\n",
    "model3.fit(X_train, y_train, epochs=10, batch_size=32, validation_data=(X_val, y_val))"
   ]
  },
  {
   "cell_type": "markdown",
   "id": "f5af053d-df15-46a5-96e4-a8287c38c45a",
   "metadata": {},
   "source": [
    "## Model 4"
   ]
  },
  {
   "cell_type": "code",
   "execution_count": 14,
   "id": "565541f5-f6cc-42e2-81f0-e22b7bc5b879",
   "metadata": {
    "tags": []
   },
   "outputs": [
    {
     "name": "stdout",
     "output_type": "stream",
     "text": [
      "Epoch 1/10\n",
      "130/130 [==============================] - 1s 2ms/step - loss: 0.9504 - accuracy: 0.8083 - val_loss: 0.5650 - val_accuracy: 0.9317\n",
      "Epoch 2/10\n",
      "130/130 [==============================] - 0s 2ms/step - loss: 0.5521 - accuracy: 0.9314 - val_loss: 0.5164 - val_accuracy: 0.9327\n",
      "Epoch 3/10\n",
      "130/130 [==============================] - 0s 1ms/step - loss: 0.5077 - accuracy: 0.9350 - val_loss: 0.4779 - val_accuracy: 0.9356\n",
      "Epoch 4/10\n",
      "130/130 [==============================] - 0s 1ms/step - loss: 0.4716 - accuracy: 0.9370 - val_loss: 0.4459 - val_accuracy: 0.9365\n",
      "Epoch 5/10\n",
      "130/130 [==============================] - 0s 2ms/step - loss: 0.4394 - accuracy: 0.9389 - val_loss: 0.4195 - val_accuracy: 0.9365\n",
      "Epoch 6/10\n",
      "130/130 [==============================] - 0s 1ms/step - loss: 0.4132 - accuracy: 0.9375 - val_loss: 0.3925 - val_accuracy: 0.9365\n",
      "Epoch 7/10\n",
      "130/130 [==============================] - 0s 1ms/step - loss: 0.3868 - accuracy: 0.9413 - val_loss: 0.3717 - val_accuracy: 0.9356\n",
      "Epoch 8/10\n",
      "130/130 [==============================] - 0s 1ms/step - loss: 0.3664 - accuracy: 0.9394 - val_loss: 0.3507 - val_accuracy: 0.9404\n",
      "Epoch 9/10\n",
      "130/130 [==============================] - 0s 1ms/step - loss: 0.3450 - accuracy: 0.9420 - val_loss: 0.3332 - val_accuracy: 0.9365\n",
      "Epoch 10/10\n",
      "130/130 [==============================] - 0s 1ms/step - loss: 0.3275 - accuracy: 0.9418 - val_loss: 0.3169 - val_accuracy: 0.9375\n"
     ]
    },
    {
     "data": {
      "text/plain": [
       "<keras.callbacks.History at 0x1cccf656b00>"
      ]
     },
     "execution_count": 14,
     "metadata": {},
     "output_type": "execute_result"
    }
   ],
   "source": [
    "model4 = Sequential()\n",
    "model4.add(Dense(16, activation='relu', input_shape=(12,)))\n",
    "model4.add(Dense(8, activation='relu'))\n",
    "model4.add(Dense(4, activation='relu'))\n",
    "model4.add(Dense(1, activation='sigmoid'))\n",
    "model4.compile(optimizer='adam', loss='binary_crossentropy', metrics=['accuracy'])\n",
    "model4.fit(X_train, y_train, epochs=10, batch_size=32, validation_data=(X_val, y_val))"
   ]
  },
  {
   "cell_type": "markdown",
   "id": "cd8a98e4-5338-4182-a290-23f4d671f3df",
   "metadata": {},
   "source": [
    "## Model 5"
   ]
  },
  {
   "cell_type": "code",
   "execution_count": 15,
   "id": "c0a4f757-fdfa-4544-a6a1-a3ec6149bacd",
   "metadata": {
    "tags": []
   },
   "outputs": [
    {
     "name": "stdout",
     "output_type": "stream",
     "text": [
      "Epoch 1/10\n",
      "130/130 [==============================] - 1s 3ms/step - loss: 0.3116 - accuracy: 0.8701 - val_loss: 0.2947 - val_accuracy: 0.9250\n",
      "Epoch 2/10\n",
      "130/130 [==============================] - 0s 2ms/step - loss: 0.2730 - accuracy: 0.9283 - val_loss: 0.2743 - val_accuracy: 0.9317\n",
      "Epoch 3/10\n",
      "130/130 [==============================] - 0s 2ms/step - loss: 0.2600 - accuracy: 0.9336 - val_loss: 0.2578 - val_accuracy: 0.9375\n",
      "Epoch 4/10\n",
      "130/130 [==============================] - 0s 2ms/step - loss: 0.2422 - accuracy: 0.9396 - val_loss: 0.2475 - val_accuracy: 0.9365\n",
      "Epoch 5/10\n",
      "130/130 [==============================] - 0s 2ms/step - loss: 0.2159 - accuracy: 0.9370 - val_loss: 0.1656 - val_accuracy: 0.9433\n",
      "Epoch 6/10\n",
      "130/130 [==============================] - 0s 2ms/step - loss: 0.1601 - accuracy: 0.9437 - val_loss: 0.1571 - val_accuracy: 0.9490\n",
      "Epoch 7/10\n",
      "130/130 [==============================] - 0s 2ms/step - loss: 0.1554 - accuracy: 0.9442 - val_loss: 0.1332 - val_accuracy: 0.9500\n",
      "Epoch 8/10\n",
      "130/130 [==============================] - 0s 2ms/step - loss: 0.1300 - accuracy: 0.9543 - val_loss: 0.1199 - val_accuracy: 0.9481\n",
      "Epoch 9/10\n",
      "130/130 [==============================] - 0s 2ms/step - loss: 0.1182 - accuracy: 0.9593 - val_loss: 0.1087 - val_accuracy: 0.9692\n",
      "Epoch 10/10\n",
      "130/130 [==============================] - 0s 2ms/step - loss: 0.1056 - accuracy: 0.9644 - val_loss: 0.0856 - val_accuracy: 0.9683\n"
     ]
    },
    {
     "data": {
      "text/plain": [
       "<keras.callbacks.History at 0x1ccd1030f40>"
      ]
     },
     "execution_count": 15,
     "metadata": {},
     "output_type": "execute_result"
    }
   ],
   "source": [
    "model5 = Sequential()\n",
    "model5.add(Dense(64, activation='relu', input_shape=(12,)))\n",
    "model5.add(Dense(32, activation='relu'))\n",
    "model5.add(Dense(16, activation='relu'))\n",
    "model5.add(Dense(8, activation='relu'))\n",
    "model5.add(Dense(4, activation='relu'))\n",
    "model5.add(Dense(1, activation='sigmoid'))\n",
    "model5.compile(optimizer='adam', loss='binary_crossentropy', metrics=['accuracy'])\n",
    "model5.fit(X_train, y_train, epochs=10, batch_size=32, validation_data=(X_val, y_val))"
   ]
  },
  {
   "cell_type": "markdown",
   "id": "2c1fb7bf-b906-48c9-b638-e27bf5d99a7c",
   "metadata": {},
   "source": [
    "**Each model has a different architecture with varying numbers of layers and neurons.**"
   ]
  },
  {
   "cell_type": "markdown",
   "id": "46167a99-bfc9-43b4-b7fc-0d766967afd0",
   "metadata": {
    "tags": []
   },
   "source": [
    "## Showing the network architecture of the 5 models in figures"
   ]
  },
  {
   "cell_type": "code",
   "execution_count": 16,
   "id": "5ad64fe9-efcc-4ba9-ba65-9d3e01d56d6a",
   "metadata": {
    "tags": []
   },
   "outputs": [
    {
     "name": "stdout",
     "output_type": "stream",
     "text": [
      "Model: \"sequential\"\n",
      "_________________________________________________________________\n",
      " Layer (type)                Output Shape              Param #   \n",
      "=================================================================\n",
      " dense (Dense)               (None, 32)                416       \n",
      "                                                                 \n",
      " dense_1 (Dense)             (None, 16)                528       \n",
      "                                                                 \n",
      " dense_2 (Dense)             (None, 1)                 17        \n",
      "                                                                 \n",
      "=================================================================\n",
      "Total params: 961\n",
      "Trainable params: 961\n",
      "Non-trainable params: 0\n",
      "_________________________________________________________________\n",
      "Model: \"sequential_1\"\n",
      "_________________________________________________________________\n",
      " Layer (type)                Output Shape              Param #   \n",
      "=================================================================\n",
      " dense_3 (Dense)             (None, 64)                832       \n",
      "                                                                 \n",
      " dense_4 (Dense)             (None, 32)                2080      \n",
      "                                                                 \n",
      " dense_5 (Dense)             (None, 16)                528       \n",
      "                                                                 \n",
      " dense_6 (Dense)             (None, 1)                 17        \n",
      "                                                                 \n",
      "=================================================================\n",
      "Total params: 3,457\n",
      "Trainable params: 3,457\n",
      "Non-trainable params: 0\n",
      "_________________________________________________________________\n",
      "Model: \"sequential_2\"\n",
      "_________________________________________________________________\n",
      " Layer (type)                Output Shape              Param #   \n",
      "=================================================================\n",
      " dense_7 (Dense)             (None, 128)               1664      \n",
      "                                                                 \n",
      " dense_8 (Dense)             (None, 64)                8256      \n",
      "                                                                 \n",
      " dense_9 (Dense)             (None, 32)                2080      \n",
      "                                                                 \n",
      " dense_10 (Dense)            (None, 16)                528       \n",
      "                                                                 \n",
      " dense_11 (Dense)            (None, 1)                 17        \n",
      "                                                                 \n",
      "=================================================================\n",
      "Total params: 12,545\n",
      "Trainable params: 12,545\n",
      "Non-trainable params: 0\n",
      "_________________________________________________________________\n",
      "Model: \"sequential_3\"\n",
      "_________________________________________________________________\n",
      " Layer (type)                Output Shape              Param #   \n",
      "=================================================================\n",
      " dense_12 (Dense)            (None, 16)                208       \n",
      "                                                                 \n",
      " dense_13 (Dense)            (None, 8)                 136       \n",
      "                                                                 \n",
      " dense_14 (Dense)            (None, 4)                 36        \n",
      "                                                                 \n",
      " dense_15 (Dense)            (None, 1)                 5         \n",
      "                                                                 \n",
      "=================================================================\n",
      "Total params: 385\n",
      "Trainable params: 385\n",
      "Non-trainable params: 0\n",
      "_________________________________________________________________\n",
      "Model: \"sequential_4\"\n",
      "_________________________________________________________________\n",
      " Layer (type)                Output Shape              Param #   \n",
      "=================================================================\n",
      " dense_16 (Dense)            (None, 64)                832       \n",
      "                                                                 \n",
      " dense_17 (Dense)            (None, 32)                2080      \n",
      "                                                                 \n",
      " dense_18 (Dense)            (None, 16)                528       \n",
      "                                                                 \n",
      " dense_19 (Dense)            (None, 8)                 136       \n",
      "                                                                 \n",
      " dense_20 (Dense)            (None, 4)                 36        \n",
      "                                                                 \n",
      " dense_21 (Dense)            (None, 1)                 5         \n",
      "                                                                 \n",
      "=================================================================\n",
      "Total params: 3,617\n",
      "Trainable params: 3,617\n",
      "Non-trainable params: 0\n",
      "_________________________________________________________________\n"
     ]
    }
   ],
   "source": [
    "model1.summary()\n",
    "model2.summary()\n",
    "model3.summary()\n",
    "model4.summary()\n",
    "model5.summary()"
   ]
  },
  {
   "cell_type": "markdown",
   "id": "3101572d-5a82-45a3-9c91-aaf74d25d2b9",
   "metadata": {},
   "source": [
    "# Model Tuning"
   ]
  },
  {
   "cell_type": "markdown",
   "id": "4a028566-9807-45d6-9bab-9026fe6f0664",
   "metadata": {},
   "source": [
    "## Determine the best model "
   ]
  },
  {
   "cell_type": "code",
   "execution_count": 17,
   "id": "4a7faff9-bf50-4aa1-9a52-d5a7b9d06faa",
   "metadata": {
    "tags": []
   },
   "outputs": [],
   "source": [
    "# Define a list to store the accuracy of each model\n",
    "accuracy_list = []"
   ]
  },
  {
   "cell_type": "code",
   "execution_count": 18,
   "id": "5064d561-b1f0-4bcc-8e4a-07f315d1d40b",
   "metadata": {
    "tags": []
   },
   "outputs": [
    {
     "name": "stdout",
     "output_type": "stream",
     "text": [
      "41/41 [==============================] - 0s 1ms/step - loss: 0.0360 - accuracy: 0.9938\n",
      "41/41 [==============================] - 0s 936us/step - loss: 0.1600 - accuracy: 0.9485\n",
      "41/41 [==============================] - 0s 1ms/step - loss: 0.1323 - accuracy: 0.9531\n",
      "41/41 [==============================] - 0s 894us/step - loss: 0.3316 - accuracy: 0.9292\n",
      "41/41 [==============================] - 0s 1ms/step - loss: 0.1215 - accuracy: 0.9577\n"
     ]
    }
   ],
   "source": [
    "# Evaluate model1\n",
    "accuracy1 = model1.evaluate(X_test_scaled, y_test)[1]\n",
    "accuracy_list.append(accuracy1)\n",
    "\n",
    "# Evaluate model2\n",
    "accuracy2 = model2.evaluate(X_test, y_test)[1]\n",
    "accuracy_list.append(accuracy2)\n",
    "\n",
    "# Evaluate model3\n",
    "accuracy3 = model3.evaluate(X_test, y_test)[1]\n",
    "accuracy_list.append(accuracy3)\n",
    "\n",
    "# Evaluate model4\n",
    "accuracy4 = model4.evaluate(X_test, y_test)[1]\n",
    "accuracy_list.append(accuracy4)\n",
    "\n",
    "# Evaluate model5\n",
    "accuracy5 = model5.evaluate(X_test, y_test)[1]\n",
    "accuracy_list.append(accuracy5)"
   ]
  },
  {
   "cell_type": "code",
   "execution_count": 19,
   "id": "50e3b2bb-e677-4603-8eeb-d047f5256d36",
   "metadata": {
    "tags": []
   },
   "outputs": [],
   "source": [
    "# Create a dictionary to map model names to accuracy scores\n",
    "model_accuracy = {\n",
    "    'Model 1': accuracy1,\n",
    "    'Model 2': accuracy2,\n",
    "    'Model 3': accuracy3,\n",
    "    'Model 4': accuracy4,\n",
    "    'Model 5': accuracy5\n",
    "}"
   ]
  },
  {
   "cell_type": "code",
   "execution_count": 20,
   "id": "ce532507-28c0-4f55-a9fe-8f6578fa822d",
   "metadata": {
    "tags": []
   },
   "outputs": [
    {
     "name": "stdout",
     "output_type": "stream",
     "text": [
      "Model 1: Accuracy = 0.9938\n",
      "Model 2: Accuracy = 0.9485\n",
      "Model 3: Accuracy = 0.9531\n",
      "Model 4: Accuracy = 0.9292\n",
      "Model 5: Accuracy = 0.9577\n"
     ]
    }
   ],
   "source": [
    "# Print the accuracy of each model\n",
    "for model, accuracy in model_accuracy.items():\n",
    "    print(f'{model}: Accuracy = {accuracy:.4f}')\n"
   ]
  },
  {
   "cell_type": "code",
   "execution_count": 21,
   "id": "dc98a921-ae1e-4db0-b0ff-69c0adcb7bc0",
   "metadata": {
    "tags": []
   },
   "outputs": [],
   "source": [
    "# Find the model with architecture that has the highest accuracy\n",
    "best_model_architecture = max(model_accuracy, key=model_accuracy.get)"
   ]
  },
  {
   "cell_type": "code",
   "execution_count": 22,
   "id": "ef75168d-df2f-4baa-b4f7-17e35cf6981c",
   "metadata": {
    "tags": []
   },
   "outputs": [
    {
     "name": "stdout",
     "output_type": "stream",
     "text": [
      "Best Model: Model 1\n"
     ]
    }
   ],
   "source": [
    "# Print the best model\n",
    "print(f'Best Model Architecture: {best_model_architecture}')"
   ]
  },
  {
   "cell_type": "markdown",
   "id": "6c3f9246-09f0-411a-bfbe-21b291beca1c",
   "metadata": {},
   "source": [
    "## Hyperparameter Tuning"
   ]
  },
  {
   "cell_type": "markdown",
   "id": "57898ffe-f397-421a-9d54-50b47ba5a55d",
   "metadata": {},
   "source": [
    "**Tuning (1)optimizer (2) batch size (3) epochs**"
   ]
  },
  {
   "cell_type": "code",
   "execution_count": null,
   "id": "3e4dce8e-9654-4972-a055-14aa343d295a",
   "metadata": {
    "tags": []
   },
   "outputs": [],
   "source": [
    "from scikeras.wrappers import KerasClassifier\n",
    "from sklearn.model_selection import GridSearchCV\n",
    "\n",
    "# Define the function to create the base model\n",
    "def create_model():\n",
    "    model = tf.keras.Sequential()\n",
    "    model.add(tf.keras.layers.Dense(32, activation='relu', input_shape=(12,)))\n",
    "    model.add(tf.keras.layers.Dense(16, activation='relu'))\n",
    "    model.add(tf.keras.layers.Dense(1, activation='sigmoid'))\n",
    "    model.compile(optimizer='adam', loss='binary_crossentropy', metrics=['accuracy'])\n",
    "    return model\n",
    "\n",
    "# Wrap the grid search code inside a tf.distribute.OneDeviceStrategy context\n",
    "strategy = tf.distribute.OneDeviceStrategy(device=\"/gpu:0\")  # Specify the device if using GPU, else use \"/cpu:0\"\n",
    "with strategy.scope():\n",
    "    # Create the KerasClassifier wrapper\n",
    "    model = KerasClassifier(model=create_model, verbose=0)\n",
    "\n",
    "    # Define the hyperparameters to tune and their possible values\n",
    "    param_grid = {\n",
    "        'batch_size': [16, 32, 64],\n",
    "        'epochs': [10, 20, 30],\n",
    "        'optimizer': ['adam', 'rmsprop']\n",
    "    }\n",
    "\n",
    "    # Perform grid search cross-validation\n",
    "    grid = GridSearchCV(estimator=model, param_grid=param_grid, scoring='accuracy', cv=3)\n",
    "    grid_result = grid.fit(X_train_scaled, y_train)\n",
    "\n",
    "# Print the best hyperparameters and the corresponding accuracy\n",
    "print(\"Best Hyperparameters: \", grid_result.best_params_)\n",
    "print(\"Best Accuracy: \", grid_result.best_score_)\n",
    "\n",
    "# Refit the best model with the best hyperparameters using the entire training dataset\n",
    "best_model = grid_result.best_estimator_\n",
    "best_model.model.fit(X_train_scaled, y_train, epochs=10, batch_size=32, verbose=0)\n",
    "\n"
   ]
  },
  {
   "cell_type": "code",
   "execution_count": null,
   "id": "aa65f752-49d4-41b5-a826-f1c5ed50b069",
   "metadata": {},
   "outputs": [],
   "source": []
  },
  {
   "cell_type": "code",
   "execution_count": null,
   "id": "b205fcfd-6300-446d-a056-eb54be44c096",
   "metadata": {},
   "outputs": [],
   "source": []
  },
  {
   "cell_type": "code",
   "execution_count": null,
   "id": "6d5c40a3-0308-43e6-b448-3375fae938eb",
   "metadata": {},
   "outputs": [],
   "source": []
  }
 ],
 "metadata": {
  "kernelspec": {
   "display_name": "Python 3 (ipykernel)",
   "language": "python",
   "name": "python3"
  },
  "language_info": {
   "codemirror_mode": {
    "name": "ipython",
    "version": 3
   },
   "file_extension": ".py",
   "mimetype": "text/x-python",
   "name": "python",
   "nbconvert_exporter": "python",
   "pygments_lexer": "ipython3",
   "version": "3.10.3"
  }
 },
 "nbformat": 4,
 "nbformat_minor": 5
}
